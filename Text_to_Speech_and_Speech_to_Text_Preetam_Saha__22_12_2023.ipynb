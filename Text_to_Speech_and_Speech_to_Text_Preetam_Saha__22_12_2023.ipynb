{
  "nbformat": 4,
  "nbformat_minor": 0,
  "metadata": {
    "colab": {
      "provenance": [],
      "authorship_tag": "ABX9TyMFW5zBJ60jOqhX3L7G/gDN",
      "include_colab_link": true
    },
    "kernelspec": {
      "name": "python3",
      "display_name": "Python 3"
    },
    "language_info": {
      "name": "python"
    }
  },
  "cells": [
    {
      "cell_type": "markdown",
      "metadata": {
        "id": "view-in-github",
        "colab_type": "text"
      },
      "source": [
        "<a href=\"https://colab.research.google.com/github/preetamjumech/text-to-speech-and-speech-to-text/blob/main/Text_to_Speech_and_Speech_to_Text_Preetam_Saha__22_12_2023.ipynb\" target=\"_parent\"><img src=\"https://colab.research.google.com/assets/colab-badge.svg\" alt=\"Open In Colab\"/></a>"
      ]
    },
    {
      "cell_type": "markdown",
      "source": [
        "# https://platform.openai.com/docs/guides/text-to-speech"
      ],
      "metadata": {
        "id": "sp3IttvfE-8M"
      }
    },
    {
      "cell_type": "code",
      "source": [
        "!pip install openai"
      ],
      "metadata": {
        "id": "ldxzTpYYE_9B"
      },
      "execution_count": null,
      "outputs": []
    },
    {
      "cell_type": "code",
      "source": [
        "api_key = \"------------------\""
      ],
      "metadata": {
        "id": "7FnEQs0vFqJI"
      },
      "execution_count": 3,
      "outputs": []
    },
    {
      "cell_type": "markdown",
      "source": [
        "# Text to Speech"
      ],
      "metadata": {
        "id": "CJCOzVILKu8p"
      }
    },
    {
      "cell_type": "code",
      "source": [
        "from pathlib import Path\n",
        "from openai import OpenAI\n",
        "client = OpenAI(api_key=api_key)"
      ],
      "metadata": {
        "id": "XALU1DvnGHUi"
      },
      "execution_count": 4,
      "outputs": []
    },
    {
      "cell_type": "code",
      "source": [
        "speech_path = \"output_speech.mp3\"\n",
        "\n",
        "response = client.audio.speech.create(\n",
        "    model = \"tts-1\",\n",
        "    voice = \"echo\",\n",
        "    input = \"Your time is limited, so don’t waste it living someone else’s life. Don’t be trapped by dogma — which is living with the results of other people’s thinking. Don’t let the noise of others’ opinions drown out your own inner voice. And most important, have the courage to follow your heart and intuition. They somehow already know what you truly want to become. Everything else is secondary,\"\n",
        ")\n",
        "\n",
        "response.stream_to_file(speech_path)"
      ],
      "metadata": {
        "id": "2qNFeu-TGrAY"
      },
      "execution_count": 5,
      "outputs": []
    },
    {
      "cell_type": "code",
      "source": [
        "speech_path = \"output_speech_hindi.mp3\"\n",
        "\n",
        "response = client.audio.speech.create(\n",
        "    model = \"tts-1-hd\",\n",
        "    voice = \"onyx\",\n",
        "    input = \" गायकवाड से पहले विकेटकीपर बल्लेबाज ईशान किशन और तेज गेंदबाज मोहम्मद शमी भी टेस्ट सीरीज से बाहर हो गए हैं। साउथ अफ्रीका के खिलाफ टेस्ट सीरीज से विकेटकीपर ईशान किशन ने अपना नाम वापस ले लिया है। उन्होंने पर्सनल कारणों के चलते BCCI से भारत में रहने की परमिशन मांगी, जिसे BCCI ने अप्रूव कर लिया। \"\n",
        ")\n",
        "\n",
        "response.stream_to_file(speech_path)"
      ],
      "metadata": {
        "id": "pvpPHwUpIIbR"
      },
      "execution_count": 6,
      "outputs": []
    },
    {
      "cell_type": "markdown",
      "source": [
        "# Speech to Text"
      ],
      "metadata": {
        "id": "jtcwKTRqKztc"
      }
    },
    {
      "cell_type": "code",
      "source": [
        "audio_file = open(\"/content/output_speech.mp3\", \"rb\")\n",
        "\n",
        "transcript = client.audio.transcriptions.create(\n",
        "    model = \"whisper-1\",\n",
        "    response_format= \"text\",\n",
        "    file = audio_file\n",
        ")\n",
        "\n",
        "transcript"
      ],
      "metadata": {
        "colab": {
          "base_uri": "https://localhost:8080/",
          "height": 70
        },
        "id": "PzlLr6avKN4g",
        "outputId": "44c664be-c67b-4ae0-b34a-01c021dfa159"
      },
      "execution_count": 10,
      "outputs": [
        {
          "output_type": "execute_result",
          "data": {
            "text/plain": [
              "\"Your time is limited, so don't waste it living someone else's life. Don't be trapped by dogma, which is living with the results of other people's thinking. Don't let the noise of others' opinions drown out your own inner voice. And most important, have the courage to follow your heart and intuition. They somehow already know what you truly want to become. Everything else is secondary.\\n\""
            ],
            "application/vnd.google.colaboratory.intrinsic+json": {
              "type": "string"
            }
          },
          "metadata": {},
          "execution_count": 10
        }
      ]
    },
    {
      "cell_type": "code",
      "source": [
        "audio_file = open(\"/content/output_speech_hindi.mp3\", \"rb\")\n",
        "\n",
        "transcript = client.audio.transcriptions.create(\n",
        "    model = \"whisper-1\",\n",
        "    response_format= \"text\",\n",
        "    file = audio_file\n",
        ")\n",
        "\n",
        "print(\"Transcripted Language: \", transcript)\n",
        "print(\"\\n\")\n",
        "\n",
        "audio_file = open(\"/content/output_speech_hindi.mp3\", \"rb\")\n",
        "\n",
        "translate = client.audio.translations.create(\n",
        "    model = \"whisper-1\",\n",
        "    response_format= \"text\",\n",
        "    file = audio_file\n",
        ")\n",
        "\n",
        "print(\"Translated Language: \", translate)\n",
        "print(\"\\n\")"
      ],
      "metadata": {
        "colab": {
          "base_uri": "https://localhost:8080/"
        },
        "id": "KsQBgx6RL5N3",
        "outputId": "e6f5c154-bc3c-46fd-d3b3-7282bd1e9bcd"
      },
      "execution_count": 12,
      "outputs": [
        {
          "output_type": "stream",
          "name": "stdout",
          "text": [
            "Transcripted Language:  گائے کواڈ سے پہلے وکیٹ کیپر بلے باجی شان کشن اور تیز گیند باج محمد شمی بھی ٹیسٹ سیریز سے باہر ہو گئے ہیں۔ ساؤتھ افریقہ کے خلاف ٹیسٹ سیریز سے وکیٹ کیپر ایشان کشن نے اپنا نام واپس لے لیا ہے۔ انہوں نے پرسنل کارنوں کے چلتے بی سی سی آئی سے بھارت میں رہنے کی پرمیشن مانگی جسے بی سی سی آئی نے اپروو کر لیا۔\n",
            "\n",
            "\n",
            "\n",
            "Translated Language:  Before Gaikwad, wicketkeeper Ishan Kishan and Tejganbaj Mohamad Shami were also excluded from the test series. Ishan Kishan, the wicketkeeper, has taken his name back from the test series against South Africa. He asked for permission from the BCCI to stay in India due to personal reasons, which the BCCI approved.\n",
            "\n",
            "\n",
            "\n"
          ]
        }
      ]
    },
    {
      "cell_type": "code",
      "source": [
        "!pip install pydub"
      ],
      "metadata": {
        "colab": {
          "base_uri": "https://localhost:8080/"
        },
        "id": "okdS7edDMx73",
        "outputId": "9a4e83b8-2ae9-4596-97d1-6df7c2ca9dc8"
      },
      "execution_count": 13,
      "outputs": [
        {
          "output_type": "stream",
          "name": "stdout",
          "text": [
            "Collecting pydub\n",
            "  Downloading pydub-0.25.1-py2.py3-none-any.whl (32 kB)\n",
            "Installing collected packages: pydub\n",
            "Successfully installed pydub-0.25.1\n"
          ]
        }
      ]
    },
    {
      "cell_type": "code",
      "source": [
        "from pydub import AudioSegment"
      ],
      "metadata": {
        "id": "v8llRQM-NiKH"
      },
      "execution_count": 14,
      "outputs": []
    },
    {
      "cell_type": "code",
      "source": [
        "song = AudioSegment.from_file(\"/content/Sher Khul Gaye Fighter 320 Kbps.mp3\")\n",
        "two_minutes = 2* 60 * 1000\n",
        "two_minutes_song = song[:two_minutes]\n",
        "two_minutes_song.export(\"spilt_song.mp3\", format = \"mp3\")"
      ],
      "metadata": {
        "colab": {
          "base_uri": "https://localhost:8080/"
        },
        "id": "g1qu7ICENu9U",
        "outputId": "e8442f31-8c0b-4724-97e5-2b5c9563573f"
      },
      "execution_count": 15,
      "outputs": [
        {
          "output_type": "execute_result",
          "data": {
            "text/plain": [
              "<_io.BufferedRandom name='spilt_song.mp3'>"
            ]
          },
          "metadata": {},
          "execution_count": 15
        }
      ]
    },
    {
      "cell_type": "code",
      "source": [
        "audio_file = open(\"/content/spilt_song.mp3\", \"rb\")\n",
        "\n",
        "transcript = client.audio.transcriptions.create(\n",
        "    model = \"whisper-1\",\n",
        "    response_format= \"text\",\n",
        "    file = audio_file\n",
        ")\n",
        "\n",
        "print(\"Transcripted Language: \", transcript)\n",
        "print(\"\\n\")\n",
        "\n",
        "audio_file = open(\"/content/spilt_song.mp3\", \"rb\")\n",
        "\n",
        "translate = client.audio.translations.create(\n",
        "    model = \"whisper-1\",\n",
        "    response_format= \"text\",\n",
        "    file = audio_file\n",
        ")\n",
        "\n",
        "print(\"Translated Language: \", translate)\n",
        "print(\"\\n\")"
      ],
      "metadata": {
        "colab": {
          "base_uri": "https://localhost:8080/"
        },
        "id": "rqIBCsHiRnjr",
        "outputId": "8d2deaf7-e4a0-4642-c5c8-0925e7040c45"
      },
      "execution_count": 17,
      "outputs": [
        {
          "output_type": "stream",
          "name": "stdout",
          "text": [
            "Transcripted Language:  ख़क है हमको कुछ आज करले तुनिया चाहे एतरास करले बिगडे ज्यादा, सुधरे हुए कम अब तोड़ेंगे हर काइदा मोच नहीं शाम से खल मिलो काम से अभी तो हम देख लो भिल खुल गए के घट के सारे रस्ते फुल गए वो जो भी हमें देखे वो कहता रहे के अज शेर खुल गए खट के रसते फुल गए, अब तो हम भिल खुल गए आये एसी छोड में के जो भी हम कारो कहता रहे, के अज शेर खुल गए मुझे से लशे में गलती हो जानी है आज तो यारा समल ना कोई हो जाए नाराज जो मैं तो बदमाश हो रहा हूं कल शरीप था बिगला हिसाब तिल का पहले तो ये जीग था होज नहीं शाब से कल मिलो खाम से\n",
            "\n",
            "\n",
            "\n",
            "Translated Language:  🎵Music🎵 We have the right to do something today The world may object 🎵Music🎵 We have become more corrupt We have become less reformed Now we will break Every rule No peace From evening Meet tomorrow With work Right now we can see Our hearts have opened All the doors of the house have opened Whoever sees us Keeps saying That today the lion has opened All the doors of the house have opened Now our hearts have opened We have come in such a state That whoever sees us Keeps saying That today the lion has opened 🎵Music🎵 I have made a mistake in my intoxication Today Be careful my friend Someone may get angry 🎵Music🎵 I am being mischievous Yesterday was decent Now my heart is fine 🎵Music🎵 No peace From evening Meet tomorrow With work\n",
            "\n",
            "\n",
            "\n"
          ]
        }
      ]
    },
    {
      "cell_type": "code",
      "source": [
        "system_prompt = \"\"\"You are given a video transcript without any punctuations.\n",
        "Also, here are two terms which should be always in bold and upper cases  and in different colour with respect to other words according to the context.\n",
        "Terms:\n",
        "peace, heart.\n",
        "Rewrite transcript in the same format with proper punctuations and make sure only the strating Character at the begining of a new sentence will only be in Capital letter otherwise it will be in lower letter ...\n",
        "\"\"\"\n",
        "\n",
        "def mytranslate(audio_file):\n",
        "  trans = client.audio.translations.create(\n",
        "      model = \"whisper-1\",\n",
        "      response_format = \"text\",\n",
        "      file = audio_file\n",
        "  )\n",
        "  return trans\n",
        "\n",
        "def generated_corrected_translate(system_prompt, audio_file):\n",
        "  # text = mytranslate(audio_file)\n",
        "  # response = client.chat.completions.create(\n",
        "  #     model = \"gpt-3.5\",\n",
        "  #     temperature= 0,\n",
        "  #     messages = [\n",
        "  #         {\"role\": \"system\", \"content\": system_prompt},\n",
        "  #         {\"role\": \"user\", \"content\": text}\n",
        "  #     ]\n",
        "  # )\n",
        "  # return response.choices[0].message.content\n",
        "  text = mytranslate(audio_file)\n",
        "  print(text)\n",
        "  response = client.chat.completions.create(\n",
        "         model=\"gpt-3.5-turbo\",\n",
        "         temperature=0,\n",
        "         messages=[\n",
        "             {\"role\": \"system\", \"content\": system_prompt},\n",
        "             {\"role\": \"user\", \"content\": text}\n",
        "         ]\n",
        "     )\n",
        "  return response.choices[0].message.content\n",
        "\n",
        "audio_file = open(\"/content/spilt_song.mp3\", \"rb\")\n",
        "corrected_text = generated_corrected_translate(system_prompt, audio_file)\n"
      ],
      "metadata": {
        "colab": {
          "base_uri": "https://localhost:8080/"
        },
        "id": "mb0bNA2cSliw",
        "outputId": "9812a0d9-2ab8-43d4-b782-7ae25be71a78"
      },
      "execution_count": 26,
      "outputs": [
        {
          "output_type": "stream",
          "name": "stdout",
          "text": [
            "🎵 Music 🎵 🎵 We have the right to do something today. The world may object. 🎵 🎵 Music 🎵 🎵 We have been spoiled, we have been improved. Now we will break all the rules. 🎵 🎵 We are not free from evening. Meet us tomorrow for work. 🎵 🎵 Right now, we have opened our hearts. We have forgotten all the ways back home. 🎵 🎵 Whatever they saw in us, they kept saying that today the lion has opened. 🎵 🎵 We have forgotten all the ways back home. Now we have opened our hearts. 🎵 🎵 Whatever they saw in us, they kept saying that today the lion has opened. 🎵 🎵 Music 🎵 🎵 I have made a mistake in my intoxication today. My friend, be careful that no one gets angry. 🎵 🎵 Music 🎵 🎵 I am being mischievous. Yesterday, I was decent. Now, I have to settle the score. 🎵 🎵 We are not free from evening. Meet us tomorrow for work. 🎵\n",
            "\n"
          ]
        }
      ]
    },
    {
      "cell_type": "code",
      "source": [
        "corrected_text"
      ],
      "metadata": {
        "colab": {
          "base_uri": "https://localhost:8080/",
          "height": 105
        },
        "id": "9PXf2sNPZelA",
        "outputId": "090e514a-25cc-4379-ba42-1b5519f8b503"
      },
      "execution_count": 27,
      "outputs": [
        {
          "output_type": "execute_result",
          "data": {
            "text/plain": [
              "'🎵 Music 🎵 \\n\\n🎵 We have the right to do something today. The world may object. 🎵 \\n\\n🎵 Music 🎵 \\n\\n🎵 We have been spoiled, we have been improved. Now we will break all the rules. 🎵 \\n\\n🎵 We are not free from evening. Meet us tomorrow for work. 🎵 \\n\\n🎵 Right now, we have opened our hearts. We have forgotten all the ways back home. 🎵 \\n\\n🎵 Whatever they saw in us, they kept saying that today the lion has opened. 🎵 \\n\\n🎵 We have forgotten all the ways back home. Now we have opened our hearts. 🎵 \\n\\n🎵 Whatever they saw in us, they kept saying that today the lion has opened. 🎵 \\n\\n🎵 Music 🎵 \\n\\n🎵 I have made a mistake in my intoxication today. My friend, be careful that no one gets angry. 🎵 \\n\\n🎵 Music 🎵 \\n\\n🎵 I am being mischievous. Yesterday, I was decent. Now, I have to settle the score. 🎵 \\n\\n🎵 We are not free from evening. Meet us tomorrow for work. 🎵'"
            ],
            "application/vnd.google.colaboratory.intrinsic+json": {
              "type": "string"
            }
          },
          "metadata": {},
          "execution_count": 27
        }
      ]
    },
    {
      "cell_type": "code",
      "source": [],
      "metadata": {
        "id": "6q3LrZQAarHP"
      },
      "execution_count": null,
      "outputs": []
    }
  ]
}